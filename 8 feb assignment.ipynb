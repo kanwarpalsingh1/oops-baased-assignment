{
 "cells": [
  {
   "cell_type": "code",
   "execution_count": 1,
   "id": "68a25482-231e-4cbe-bb3a-787b139e91d9",
   "metadata": {},
   "outputs": [
    {
     "name": "stdout",
     "output_type": "stream",
     "text": [
      "Area of Circle: 78.5\n",
      "Area of Rectangle: 24\n"
     ]
    }
   ],
   "source": [
    "'''Q1. What is Abstraction in OOps? Explain with an example.'''\n",
    "'''Abstraction in object-oriented programming (OOP) is the concept of hiding the complex implementation details and showing only the essential features of an object. It focuses on what an object does rather than how it achieves it. Abstraction allows developers to create a simplified representation of real-world objects and systems, making it easier to manage and understand the code.\n",
    "\n",
    "In OOP, abstraction is achieved through abstract classes and interfaces. Abstract classes are classes that cannot be instantiated directly and may contain abstract methods, which are declared but not implemented in the abstract class. Interfaces, on the other hand, define a contract for classes that implement them, specifying the methods that must be implemented by those classes.'''\n",
    "from abc import ABC, abstractmethod\n",
    "\n",
    "# Abstract class representing a Shape\n",
    "class Shape(ABC):\n",
    "    # Abstract method to calculate area (must be implemented by subclasses)\n",
    "    @abstractmethod\n",
    "    def calculate_area(self):\n",
    "        pass\n",
    "\n",
    "# Concrete subclass Circle inheriting from Shape\n",
    "class Circle(Shape):\n",
    "    def __init__(self, radius):\n",
    "        self.radius = radius\n",
    "\n",
    "    # Implementation of abstract method to calculate area for Circle\n",
    "    def calculate_area(self):\n",
    "        return 3.14 * self.radius ** 2\n",
    "\n",
    "# Concrete subclass Rectangle inheriting from Shape\n",
    "class Rectangle(Shape):\n",
    "    def __init__(self, length, width):\n",
    "        self.length = length\n",
    "        self.width = width\n",
    "\n",
    "    # Implementation of abstract method to calculate area for Rectangle\n",
    "    def calculate_area(self):\n",
    "        return self.length * self.width\n",
    "\n",
    "# Creating objects of Circle and Rectangle\n",
    "circle = Circle(5)\n",
    "rectangle = Rectangle(4, 6)\n",
    "\n",
    "# Calculating area for Circle and Rectangle\n",
    "print(\"Area of Circle:\", circle.calculate_area())  # Output: Area of Circle: 78.5\n",
    "print(\"Area of Rectangle:\", rectangle.calculate_area())"
   ]
  },
  {
   "cell_type": "markdown",
   "id": "681d88ac-2e49-4797-b6c8-fa49a2c9a623",
   "metadata": {},
   "source": [
    "'''Q2. Differentiate between Abstraction and Encapsulation. Explain with an example.'''\n",
    "Abstraction:\n",
    "\n",
    "Abstraction refers to the concept of hiding the complex implementation details and showing only the essential features of an object.\n",
    "It focuses on what an object does rather than how it achieves it.\n",
    "Abstraction is achieved through abstract classes and interfaces, which define a common interface for a group of related objects without specifying the implementation details.\n",
    "It helps in managing complexity and making the code more understandable and maintainable.\n",
    "Example: In the previous example, the Shape class serves as an abstraction for geometric shapes. It defines a common interface (calculate_area() method) for different shapes, such as circles and rectangles, without specifying how each shape calculates its area.\n",
    "Encapsulation:\n",
    "\n",
    "Encapsulation refers to the bundling of data (attributes or properties) and methods (behavior) that operate on the data into a single unit, called a class.\n",
    "It restricts access to the internal state of objects and only allows operations through well-defined interfaces (methods).\n",
    "Encapsulation helps in hiding the implementation details and protecting the integrity of the data by preventing direct access to the internal state of objects.\n",
    "Example: Consider a Person class that encapsulates information about a person, such as their name, age, and address. The attributes (name, age, address) are encapsulated within the Person class, and access to these attributes is controlled through getter and setter methods. This ensures that the internal state of a Person object remains consistent and prevents unauthorized access or modification of the data."
   ]
  },
  {
   "cell_type": "code",
   "execution_count": 3,
   "id": "26460923-32ee-45bc-8c2e-d875fde33414",
   "metadata": {},
   "outputs": [
    {
     "name": "stdout",
     "output_type": "stream",
     "text": [
      "Area of Circle: 78.5\n",
      "Area of Rectangle: 24\n"
     ]
    }
   ],
   "source": [
    "'''Q3. What is abc module in python? Why is it used?'''\n",
    "\n",
    "from abc import ABC, abstractmethod\n",
    "\n",
    "# Define an abstract base class using ABC\n",
    "class Shape(ABC):\n",
    "    # Declare abstract method\n",
    "    @abstractmethod\n",
    "    def area(self):\n",
    "        pass\n",
    "\n",
    "# Concrete subclass Circle inheriting from Shape\n",
    "class Circle(Shape):\n",
    "    def __init__(self, radius):\n",
    "        self.radius = radius\n",
    "\n",
    "    # Implement abstract method\n",
    "    def area(self):\n",
    "        return 3.14 * self.radius ** 2\n",
    "\n",
    "# Concrete subclass Rectangle inheriting from Shape\n",
    "class Rectangle(Shape):\n",
    "    def __init__(self, length, width):\n",
    "        self.length = length\n",
    "        self.width = width\n",
    "\n",
    "    # Implement abstract method\n",
    "    def area(self):\n",
    "        return self.length * self.width\n",
    "\n",
    "# Creating objects of Circle and Rectangle\n",
    "circle = Circle(5)\n",
    "rectangle = Rectangle(4, 6)\n",
    "\n",
    "# Calculating area for Circle and Rectangle\n",
    "print(\"Area of Circle:\", circle.area())  # Output: Area of Circle: 78.5\n",
    "print(\"Area of Rectangle:\", rectangle.area())"
   ]
  },
  {
   "cell_type": "code",
   "execution_count": 4,
   "id": "7aae15fe-f9fb-486b-afcc-7b731c396b17",
   "metadata": {},
   "outputs": [
    {
     "name": "stdout",
     "output_type": "stream",
     "text": [
      "Balance: 1300\n"
     ]
    }
   ],
   "source": [
    "'''Q4. How can we achieve data abstraction?'''\n",
    "class BankAccount:\n",
    "    def __init__(self, account_number, balance):\n",
    "        self._account_number = account_number  # Encapsulated attribute\n",
    "        self._balance = balance                # Encapsulated attribute\n",
    "\n",
    "    def deposit(self, amount):\n",
    "        self._balance += amount\n",
    "\n",
    "    def withdraw(self, amount):\n",
    "        if self._balance >= amount:\n",
    "            self._balance -= amount\n",
    "        else:\n",
    "            print(\"Insufficient balance\")\n",
    "\n",
    "    def get_balance(self):\n",
    "        return self._balance\n",
    "\n",
    "# Creating an object of BankAccount class\n",
    "account1 = BankAccount(\"123456\", 1000)\n",
    "\n",
    "# Performing operations using the public interface\n",
    "account1.deposit(500)\n",
    "account1.withdraw(200)\n",
    "print(\"Balance:\", account1.get_balance())"
   ]
  },
  {
   "cell_type": "code",
   "execution_count": 5,
   "id": "86c8c27b-8da2-4263-abc6-bcfdea90ad2f",
   "metadata": {},
   "outputs": [
    {
     "name": "stdout",
     "output_type": "stream",
     "text": [
      "Area of Circle: 78.5\n"
     ]
    }
   ],
   "source": [
    "'''Q5. Can we create an instance of an abstract class? Explain your answer.'''\n",
    "from abc import ABC, abstractmethod\n",
    "\n",
    "# Define an abstract base class using ABC\n",
    "class Shape(ABC):\n",
    "    # Declare abstract method\n",
    "    @abstractmethod\n",
    "    def area(self):\n",
    "        pass\n",
    "\n",
    "# Concrete subclass Circle inheriting from Shape\n",
    "class Circle(Shape):\n",
    "    def __init__(self, radius):\n",
    "        self.radius = radius\n",
    "\n",
    "    # Implement abstract method\n",
    "    def area(self):\n",
    "        return 3.14 * self.radius ** 2\n",
    "\n",
    "# Creating an instance of the Circle class (a concrete subclass)\n",
    "circle = Circle(5)\n",
    "\n",
    "# Accessing the area method of the Circle instance\n",
    "print(\"Area of Circle:\", circle.area())"
   ]
  },
  {
   "cell_type": "code",
   "execution_count": null,
   "id": "ce4a13a9-af75-4129-8027-8fe8b862e8a4",
   "metadata": {},
   "outputs": [],
   "source": []
  }
 ],
 "metadata": {
  "kernelspec": {
   "display_name": "Python 3 (ipykernel)",
   "language": "python",
   "name": "python3"
  },
  "language_info": {
   "codemirror_mode": {
    "name": "ipython",
    "version": 3
   },
   "file_extension": ".py",
   "mimetype": "text/x-python",
   "name": "python",
   "nbconvert_exporter": "python",
   "pygments_lexer": "ipython3",
   "version": "3.10.8"
  }
 },
 "nbformat": 4,
 "nbformat_minor": 5
}
